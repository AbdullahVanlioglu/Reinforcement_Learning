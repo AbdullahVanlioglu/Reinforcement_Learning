{
  "nbformat": 4,
  "nbformat_minor": 0,
  "metadata": {
    "colab": {
      "name": "02_cartpole_random.ipynb",
      "provenance": [],
      "collapsed_sections": []
    },
    "kernelspec": {
      "name": "python3",
      "display_name": "Python 3"
    }
  },
  "cells": [
    {
      "cell_type": "code",
      "metadata": {
        "id": "vdzVM30eCRlg",
        "colab_type": "code",
        "colab": {}
      },
      "source": [
        "import gym"
      ],
      "execution_count": 0,
      "outputs": []
    },
    {
      "cell_type": "code",
      "metadata": {
        "id": "3ioFqFSTCVWq",
        "colab_type": "code",
        "colab": {}
      },
      "source": [
        "if __name__ == '__main__':\n",
        "  env = gym.make(\"CartPole-v0\")\n",
        "  total_reward = 0.0\n",
        "  total_steps = 0\n",
        "  obs = env.reset()"
      ],
      "execution_count": 0,
      "outputs": []
    },
    {
      "cell_type": "code",
      "metadata": {
        "id": "dFqbQYKfCh8a",
        "colab_type": "code",
        "colab": {
          "base_uri": "https://localhost:8080/",
          "height": 34
        },
        "outputId": "c4f43f1e-4e96-4e2b-f9dc-c6476c1c8a94"
      },
      "source": [
        "while True:\n",
        "  action = env.action_space.sample()\n",
        "  obs, reward, done, _ = env.step(action)\n",
        "  total_reward += reward\n",
        "  total_steps += 1\n",
        "  if done:\n",
        "    break\n",
        "\n",
        "print(\"Episode done in %d steps, total reward %.2f\" % (total_steps,total_reward))"
      ],
      "execution_count": 21,
      "outputs": [
        {
          "output_type": "stream",
          "text": [
            "Episode done in 13 steps, total reward 13.00\n"
          ],
          "name": "stdout"
        }
      ]
    },
    {
      "cell_type": "code",
      "metadata": {
        "id": "H2QynxRrEsoV",
        "colab_type": "code",
        "colab": {}
      },
      "source": [
        ""
      ],
      "execution_count": 0,
      "outputs": []
    }
  ]
}