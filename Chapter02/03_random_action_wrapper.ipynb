{
  "nbformat": 4,
  "nbformat_minor": 0,
  "metadata": {
    "colab": {
      "name": "03_random_action_wrapper.ipynb",
      "provenance": [],
      "collapsed_sections": []
    },
    "kernelspec": {
      "name": "python3",
      "display_name": "Python 3"
    }
  },
  "cells": [
    {
      "cell_type": "code",
      "metadata": {
        "id": "UNVFXk7vjwHe",
        "colab_type": "code",
        "colab": {
          "base_uri": "https://localhost:8080/",
          "height": 102
        },
        "outputId": "86f83ac9-57d4-4bd3-fc1b-70ca90b2cb07"
      },
      "source": [
        "import gym\n",
        "import random\n",
        "\n",
        "\n",
        "class RandomActionWrapper(gym.ActionWrapper):\n",
        "    def __init__(self, env, epsilon=0.1):\n",
        "        super(RandomActionWrapper, self).__init__(env)                          #initializa wrapper\n",
        "        self.epsilon = epsilon                                                  #a probobility of a random action\n",
        "\n",
        "    def action(self, action):\n",
        "        if random.random() < self.epsilon:\n",
        "            print(\"Random!\")\n",
        "            return self.env.action_space.sample()\n",
        "        return action\n",
        "\n",
        "\n",
        "if __name__ == \"__main__\":\n",
        "    env = RandomActionWrapper(gym.make(\"CartPole-v0\"))\n",
        "\n",
        "    obs = env.reset()\n",
        "    total_reward = 0.0\n",
        "\n",
        "    while True:\n",
        "        obs, reward, done, _ = env.step(0)\n",
        "        total_reward += reward\n",
        "        if done:\n",
        "            break\n",
        "\n",
        "    print(\"Reward got: %.2f\" % total_reward)"
      ],
      "execution_count": 11,
      "outputs": [
        {
          "output_type": "stream",
          "text": [
            "Random!\n",
            "Random!\n",
            "Random!\n",
            "Random!\n",
            "Reward got: 13.00\n"
          ],
          "name": "stdout"
        }
      ]
    }
  ]
}